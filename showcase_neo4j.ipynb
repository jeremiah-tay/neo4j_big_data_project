{
 "cells": [
  {
   "cell_type": "code",
   "execution_count": 1,
   "metadata": {},
   "outputs": [],
   "source": [
    "import neo4j\n",
    "import pandas as pd"
   ]
  },
  {
   "cell_type": "code",
   "execution_count": 2,
   "metadata": {},
   "outputs": [],
   "source": [
    "belong_to_dept_df = pd.read_csv(\"belong_to_dept.csv\")\n",
    "has_action_df = pd.read_csv(\"has_action.csv\")\n",
    "has_case_df = pd.read_csv(\"has_case.csv\")\n",
    "seek_approval_df = pd.read_csv(\"seek_approval.csv\")"
   ]
  },
  {
   "cell_type": "code",
   "execution_count": 4,
   "metadata": {},
   "outputs": [
    {
     "name": "stderr",
     "output_type": "stream",
     "text": [
      "Received notification from DBMS server: {severity: WARNING} {code: Neo.ClientNotification.Statement.FeatureDeprecationWarning} {category: DEPRECATION} {title: This feature is deprecated and will be removed in future versions.} {description: The query used a deprecated field from a procedure. ('advertisedListenAddress' returned by 'gds.debug.arrow' is deprecated.)} {position: line: 1, column: 1, offset: 0} for query: 'CALL gds.debug.arrow()'\n",
      "Received notification from DBMS server: {severity: WARNING} {code: Neo.ClientNotification.Statement.FeatureDeprecationWarning} {category: DEPRECATION} {title: This feature is deprecated and will be removed in future versions.} {description: The query used a deprecated field from a procedure. ('serverLocation' returned by 'gds.debug.arrow' is deprecated.)} {position: line: 1, column: 1, offset: 0} for query: 'CALL gds.debug.arrow()'\n"
     ]
    }
   ],
   "source": [
    "from graphdatascience import GraphDataScience\n",
    "\n",
    "# Use Neo4j URI and credentials according to your setup\n",
    "user = \"neo4j\"\n",
    "password = \"jeremiahtay\"\n",
    "gds = GraphDataScience(\"bolt://localhost:7687\", auth=(user,password))"
   ]
  },
  {
   "cell_type": "code",
   "execution_count": 5,
   "metadata": {},
   "outputs": [],
   "source": [
    "# Q1: Using Neo4j Aura, create the Knowledge Graph below\n",
    "create_starting_knowledge_graph = \"\"\"\n",
    "CREATE (d:Department {name:\"Department\"})\n",
    "CREATE (a:Approver {name:\"Approver\"})\n",
    "CREATE (p:Person {name: \"Person\"})\n",
    "CREATE (c:Case {case: \"Case\"})\n",
    "CREATE (x:Action {action: \"Action\"})\n",
    "\n",
    "CREATE (p)-[:belongtoDept]->(d)\n",
    "CREATE (p)-[:seekApproval]->(a)\n",
    "CREATE (p)-[:hasCase]->(c)\n",
    "CREATE (c)-[:hasAction]->(x)\n",
    "\"\"\""
   ]
  },
  {
   "cell_type": "code",
   "execution_count": 6,
   "metadata": {},
   "outputs": [
    {
     "data": {
      "text/plain": [
       "[]"
      ]
     },
     "execution_count": 6,
     "metadata": {},
     "output_type": "execute_result"
    }
   ],
   "source": [
    "from neo4j import GraphDatabase\n",
    "\n",
    "class Neo4jConnection:\n",
    "    \n",
    "    def __init__(self, uri, user, pwd):\n",
    "        self.__uri = uri\n",
    "        self.__user = user\n",
    "        self.__pwd = pwd\n",
    "        self.__driver = None\n",
    "        try:\n",
    "            self.__driver = GraphDatabase.driver(self.__uri, auth=(self.__user, self.__pwd))\n",
    "        except Exception as e:\n",
    "            print(\"Failed to create the driver:\", e)\n",
    "        \n",
    "    def close(self):\n",
    "        if self.__driver is not None:\n",
    "            self.__driver.close()\n",
    "        \n",
    "    def query(self, query, parameters=None, db=None):\n",
    "        assert self.__driver is not None, \"Driver not initialized!\"\n",
    "        session = None\n",
    "        response = None\n",
    "        try: \n",
    "            session = self.__driver.session(database=db) if db is not None else self.__driver.session() \n",
    "            response = list(session.run(query, parameters))\n",
    "        except Exception as e:\n",
    "            print(\"Query failed:\", e)\n",
    "        finally: \n",
    "            if session is not None:\n",
    "                session.close()\n",
    "        return response\n",
    "\n",
    "\n",
    "\n",
    "conn = Neo4jConnection(uri=\"bolt://localhost:7687\", \n",
    "                       user=\"neo4j\",              \n",
    "                       pwd=\"jeremiahtay\")\n",
    "\n",
    "# Load Departments and Persons\n",
    "query_departments_persons = \"\"\"\n",
    "LOAD CSV WITH HEADERS FROM 'file:///belong_to_dept.csv' AS row\n",
    "MERGE (p:Person {name: row.Person, role: row.Role})\n",
    "MERGE (d:Department {name: row.Department})\n",
    "MERGE (p)-[:belongtoDept]->(d);\n",
    "\"\"\"\n",
    "\n",
    "# Load Approvals\n",
    "query_approvals = \"\"\"\n",
    "LOAD CSV WITH HEADERS FROM 'file:///seek_approval.csv' AS row\n",
    "MATCH (p:Person {name: row.Person})\n",
    "MATCH (a:Person {name: row.Approver})\n",
    "MERGE (p)-[:seekApproval]->(a);\n",
    "\"\"\"\n",
    "\n",
    "# Load Cases\n",
    "query_cases = \"\"\"\n",
    "LOAD CSV WITH HEADERS FROM 'file:///has_case.csv' AS row\n",
    "MATCH (p:Person {name: row.Person})\n",
    "MERGE (c:Case {id: toInteger(row.CaseID), description: row.CaseDescription})\n",
    "MERGE (p)-[:hasCase]->(c);\n",
    "\"\"\"\n",
    "\n",
    "# Load Actions\n",
    "query_actions = \"\"\"\n",
    "LOAD CSV WITH HEADERS FROM 'file:///has_action.csv' AS row\n",
    "MATCH (c:Case {id: toInteger(row.CaseID)})\n",
    "MERGE (x:Action {id: toInteger(row.CaseID), action: row.Action, status: row.Status})\n",
    "MERGE (c)-[:hasAction]->(x);\n",
    "\"\"\"\n",
    "\n",
    "conn.query(query_departments_persons)\n",
    "conn.query(query_approvals)\n",
    "conn.query(query_cases)\n",
    "conn.query(query_actions)\n",
    "\n",
    "\n"
   ]
  },
  {
   "cell_type": "code",
   "execution_count": 14,
   "metadata": {},
   "outputs": [
    {
     "name": "stdout",
     "output_type": "stream",
     "text": [
      "[<Record LOB_Employees=2>]\n",
      "[<Record HR_case_load=3>]\n"
     ]
    }
   ],
   "source": [
    "# Scenario 1 Q1a: How many people are there in LOB department?\n",
    "num_lob = (\"\"\"\n",
    "MATCH p = (a:Person)-[r:belongtoDept]-> (d:Department {name: \"LOB\"})\n",
    "RETURN COUNT(p) AS Num_LOB_Employee\n",
    "\"\"\")\n",
    "print(conn.query(num_lob))\n",
    "\n",
    "# Scenario Q1b: How many case load are there for HR department?\n",
    "num_case_load_HR = (\"\"\"\n",
    "MATCH (a:Person)-[r:belongtoDept]->(d:Department {name: \"HR\"})\n",
    "MATCH (a)-[r1:hasCase]->(c:Case)\n",
    "MATCH (c)-[r2:hasAction]->(x:Action)\n",
    "RETURN COUNT(a) AS Num_HR_Case_Load\n",
    "\"\"\")\n",
    "print(conn.query(num_case_load_HR))"
   ]
  },
  {
   "cell_type": "code",
   "execution_count": 7,
   "metadata": {},
   "outputs": [
    {
     "name": "stdout",
     "output_type": "stream",
     "text": [
      "Rachel has established a seekApproval relationship with Gerard\n"
     ]
    }
   ],
   "source": [
    "# Scenario 2a: Using the above Knowledge Graph and dataset, Can you infer that Rachel’s approving officer is Gerard.\n",
    "uri=\"bolt://localhost:7687\"\n",
    "ser=\"neo4j\"      \n",
    "pwd=\"jeremiahtay\"\n",
    "\n",
    "def establish_seek_approval(person_a, person_b):\n",
    "    # Initiate connection to the database\n",
    "    connection = Neo4jConnection(uri, user, pwd)\n",
    "    \n",
    "    parameters = {\n",
    "        \"person_a_name\": person_a[\"name\"],\n",
    "        \"person_a_role\": person_a[\"role\"],\n",
    "        \"person_b_name\": person_b[\"name\"],\n",
    "        \"person_b_role\": person_b[\"role\"]\n",
    "    }\n",
    "\n",
    "    # Checking to ensure that two team members will not seek approval from each other\n",
    "    if person_a[\"role\"] == \"Team Member\" and person_b[\"role\"] == \"Team Member\":\n",
    "        print(f\"{person_a['name']} has not established a seekApproval relationship with {person_b['name']}\")\n",
    "        return\n",
    "    \n",
    "    # Checking for any current Team Member that seeks approval from any person with the role 'Head'\n",
    "    check_any_team_member_query = \"\"\"\n",
    "    MATCH (p1:Person {role: 'Team Member'})-[:seekApproval]->(head:Person {role: 'Head'})-[:belongtoDept]->(d:Department {name: 'HR'}),\n",
    "          (p1)-[:belongtoDept]->(d),\n",
    "          (p2:Person {name: $person_a_name, role: $person_a_role})-[:belongtoDept]->(d)\n",
    "    RETURN p1, head, p2\n",
    "    \"\"\"\n",
    "\n",
    "    team_member_nodes = connection.query(check_any_team_member_query, parameters)\n",
    "\n",
    "    if team_member_nodes:\n",
    "        # Forming any possible seekApproval relationship between person_a and person_b\n",
    "        add_relationship_query = \"\"\"\n",
    "        MATCH (p3:Person {name: $person_a_name, role: $person_a_role})-[:belongtoDept]->(department:Department {name: 'HR'}),\n",
    "              (p4:Person {name: $person_b_name, role: $person_b_role})-[:belongtoDept]->(department)\n",
    "        MERGE (p3)-[:seekApproval]->(p4)\n",
    "        RETURN p3, p4\n",
    "        \"\"\"\n",
    "        relationship_result = connection.query(add_relationship_query, parameters)\n",
    "        print(f\"{person_a['name']} has established a seekApproval relationship with {person_b['name']}\")\n",
    "    else:\n",
    "        print(f\"{person_a['name']} has not established a seekApproval relationship with {person_b['name']}\")\n",
    "\n",
    "# Execute the function\n",
    "person_a_seeking_approval = {\"name\": \"Rachel\", \"role\": \"Team Member\"}\n",
    "person_b_approver = {\"name\": \"Gerard\", \"role\": \"Head\"}\n",
    "establish_seek_approval(person_a_seeking_approval, person_b_approver)\n"
   ]
  },
  {
   "cell_type": "code",
   "execution_count": 19,
   "metadata": {},
   "outputs": [
    {
     "data": {
      "text/plain": [
       "'\\nAnswer:\\nFirstly, I would use the current knowledge graph database to query a relationship link between each department and the cases\\' actions. \\nNext, I would calculate the aggrigated probability, which is calculating the number of cases being \"Find Resource\" over the total number of cases handled by the HR department.\\n\\n'"
      ]
     },
     "execution_count": 19,
     "metadata": {},
     "output_type": "execute_result"
    }
   ],
   "source": [
    "# Challenge Scenario – (no coding required) Describe how you can predict that most of the time, HR’s Action is to ‘Find Resource’. \n",
    "# What Knowledge Graph techniques can be used? Please elaborate.\n",
    "\"\"\"\n",
    "Answer:\n",
    "Applying graph analytics:\n",
    "Firstly, I would identify clusters in the current knowledge graph database by querying a relationship link from each department to the actions of the case. \n",
    "Next, I would compute  the aggrigated probability, that represents how often \"Find Resource\" occurs relative to the total number of cases managed by the HR department.\n",
    "If the probability is high (setting a threshold for what constitutes a high probability), it would confirm that \"Find Resource\" is the most common action favoured by the HR Department.\n",
    "\"\"\""
   ]
  }
 ],
 "metadata": {
  "kernelspec": {
   "display_name": "Python 3",
   "language": "python",
   "name": "python3"
  },
  "language_info": {
   "codemirror_mode": {
    "name": "ipython",
    "version": 3
   },
   "file_extension": ".py",
   "mimetype": "text/x-python",
   "name": "python",
   "nbconvert_exporter": "python",
   "pygments_lexer": "ipython3",
   "version": "3.12.2"
  }
 },
 "nbformat": 4,
 "nbformat_minor": 2
}
